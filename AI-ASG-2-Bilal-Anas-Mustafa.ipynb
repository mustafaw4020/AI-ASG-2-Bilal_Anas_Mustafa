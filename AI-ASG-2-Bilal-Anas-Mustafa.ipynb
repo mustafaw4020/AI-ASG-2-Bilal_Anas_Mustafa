{
 "cells": [
  {
   "cell_type": "code",
   "execution_count": null,
   "id": "1545e7d6-af54-4e09-873a-ce97b80a84e9",
   "metadata": {},
   "outputs": [
    {
     "name": "stdout",
     "output_type": "stream",
     "text": [
      "---------- SUPER GRID ----------\n",
      "0   1   2  |  0   1   2  |  0   1   2\n",
      "3   4   5  |  3   4   5  |  3   4   5\n",
      "6   7   8  |  6   7   8  |  6   7   8\n",
      "_____________________________________\n",
      "\n",
      "0   1   2  |  0   1   2  |  0   1   2\n",
      "3   4   5  |  3   4   5  |  3   4   5\n",
      "6   7   8  |  6   7   8  |  6   7   8\n",
      "_____________________________________\n",
      "\n",
      "0   1   2  |  0   1   2  |  0   1   2\n",
      "3   4   5  |  3   4   5  |  3   4   5\n",
      "6   7   8  |  6   7   8  |  6   7   8\n",
      "\n",
      "_________ NEw GRID _________\n",
      "\n",
      "e e e \n",
      "e e e \n",
      "e e e \n",
      "_____\n",
      "\n",
      "AI's turn: \n",
      "\n",
      "e X e \n",
      "e e e \n",
      "e e e \n",
      "_____\n",
      "\n",
      "Human's turn: \n",
      "\n",
      "Available moves: [0, 2, 3, 4, 5, 6, 7, 8]\n"
     ]
    },
    {
     "name": "stdin",
     "output_type": "stream",
     "text": [
      "Enter the index to place your mark:  0\n"
     ]
    },
    {
     "name": "stdout",
     "output_type": "stream",
     "text": [
      "O X e \n",
      "e e e \n",
      "e e e \n",
      "_____\n",
      "\n",
      "AI's turn: \n",
      "\n",
      "O X e \n",
      "X e e \n",
      "e e e \n",
      "_____\n",
      "\n",
      "Human's turn: \n",
      "\n",
      "Available moves: [2, 4, 5, 6, 7, 8]\n"
     ]
    },
    {
     "name": "stdin",
     "output_type": "stream",
     "text": [
      "Enter the index to place your mark:  4\n"
     ]
    },
    {
     "name": "stdout",
     "output_type": "stream",
     "text": [
      "O X e \n",
      "X O e \n",
      "e e e \n",
      "_____\n",
      "\n",
      "AI's turn: \n",
      "\n",
      "O X e \n",
      "X O e \n",
      "X e e \n",
      "_____\n",
      "\n",
      "Human's turn: \n",
      "\n",
      "Available moves: [2, 5, 7, 8]\n"
     ]
    },
    {
     "name": "stdin",
     "output_type": "stream",
     "text": [
      "Enter the index to place your mark:  8\n"
     ]
    },
    {
     "name": "stdout",
     "output_type": "stream",
     "text": [
      "\n",
      "Human is the winner for this grid\n",
      "\n",
      "_________ NEw GRID _________\n",
      "\n",
      "e e e \n",
      "e e e \n",
      "e e e \n",
      "_____\n",
      "\n",
      "Human's turn: \n",
      "\n",
      "Available moves: [0, 1, 2, 3, 4, 5, 6, 7, 8]\n"
     ]
    },
    {
     "name": "stdin",
     "output_type": "stream",
     "text": [
      "Enter the index to place your mark:  4\n"
     ]
    },
    {
     "name": "stdout",
     "output_type": "stream",
     "text": [
      "e e e \n",
      "e O e \n",
      "e e e \n",
      "_____\n",
      "\n",
      "AI's turn: \n",
      "\n",
      "e X e \n",
      "e O e \n",
      "e e e \n",
      "_____\n",
      "\n",
      "Human's turn: \n",
      "\n",
      "Available moves: [0, 2, 3, 5, 6, 7, 8]\n"
     ]
    },
    {
     "name": "stdin",
     "output_type": "stream",
     "text": [
      "Enter the index to place your mark:  5\n"
     ]
    },
    {
     "name": "stdout",
     "output_type": "stream",
     "text": [
      "e X e \n",
      "e O O \n",
      "e e e \n",
      "_____\n",
      "\n",
      "AI's turn: \n",
      "\n",
      "e X e \n",
      "e O O \n",
      "X e e \n",
      "_____\n",
      "\n",
      "Human's turn: \n",
      "\n",
      "Available moves: [0, 2, 3, 7, 8]\n"
     ]
    },
    {
     "name": "stdin",
     "output_type": "stream",
     "text": [
      "Enter the index to place your mark:  0\n"
     ]
    },
    {
     "name": "stdout",
     "output_type": "stream",
     "text": [
      "O X e \n",
      "e O O \n",
      "X e e \n",
      "_____\n",
      "\n",
      "AI's turn: \n",
      "\n",
      "O X e \n",
      "e O O \n",
      "X X e \n",
      "_____\n",
      "\n",
      "Human's turn: \n",
      "\n",
      "Available moves: [2, 3, 8]\n"
     ]
    },
    {
     "name": "stdin",
     "output_type": "stream",
     "text": [
      "Enter the index to place your mark:  2\n"
     ]
    },
    {
     "name": "stdout",
     "output_type": "stream",
     "text": [
      "O X O \n",
      "e O O \n",
      "X X e \n",
      "_____\n",
      "\n",
      "AI's turn: \n",
      "\n",
      "AI is the winner for this grid\n",
      "_________ NEw GRID _________\n",
      "\n",
      "e e e \n",
      "e e e \n",
      "e e e \n",
      "_____\n",
      "\n",
      "AI's turn: \n",
      "\n",
      "e X e \n",
      "e e e \n",
      "e e e \n",
      "_____\n",
      "\n",
      "Human's turn: \n",
      "\n",
      "Available moves: [0, 2, 3, 4, 5, 6, 7, 8]\n"
     ]
    },
    {
     "name": "stdin",
     "output_type": "stream",
     "text": [
      "Enter the index to place your mark:  2\n"
     ]
    },
    {
     "name": "stdout",
     "output_type": "stream",
     "text": [
      "e X O \n",
      "e e e \n",
      "e e e \n",
      "_____\n",
      "\n",
      "AI's turn: \n",
      "\n",
      "e X O \n",
      "X e e \n",
      "e e e \n",
      "_____\n",
      "\n",
      "Human's turn: \n",
      "\n",
      "Available moves: [0, 4, 5, 6, 7, 8]\n"
     ]
    },
    {
     "name": "stdin",
     "output_type": "stream",
     "text": [
      "Enter the index to place your mark:  6\n"
     ]
    },
    {
     "name": "stdout",
     "output_type": "stream",
     "text": [
      "e X O \n",
      "X e e \n",
      "O e e \n",
      "_____\n",
      "\n",
      "AI's turn: \n",
      "\n",
      "e X O \n",
      "X X e \n",
      "O e e \n",
      "_____\n",
      "\n",
      "Human's turn: \n",
      "\n",
      "Available moves: [0, 5, 7, 8]\n"
     ]
    },
    {
     "name": "stdin",
     "output_type": "stream",
     "text": [
      "Enter the index to place your mark:  7\n"
     ]
    },
    {
     "name": "stdout",
     "output_type": "stream",
     "text": [
      "e X O \n",
      "X X e \n",
      "O O e \n",
      "_____\n",
      "\n",
      "AI's turn: \n",
      "\n",
      "AI is the winner for this grid\n",
      "_________ NEw GRID _________\n",
      "\n",
      "e e e \n",
      "e e e \n",
      "e e e \n",
      "_____\n",
      "\n",
      "AI's turn: \n",
      "\n",
      "e X e \n",
      "e e e \n",
      "e e e \n",
      "_____\n",
      "\n",
      "Human's turn: \n",
      "\n",
      "Available moves: [0, 2, 3, 4, 5, 6, 7, 8]\n"
     ]
    },
    {
     "name": "stdin",
     "output_type": "stream",
     "text": [
      "Enter the index to place your mark:  8\n"
     ]
    },
    {
     "name": "stdout",
     "output_type": "stream",
     "text": [
      "e X e \n",
      "e e e \n",
      "e e O \n",
      "_____\n",
      "\n",
      "AI's turn: \n",
      "\n",
      "X X e \n",
      "e e e \n",
      "e e O \n",
      "_____\n",
      "\n",
      "Human's turn: \n",
      "\n",
      "Available moves: [2, 3, 4, 5, 6, 7]\n"
     ]
    },
    {
     "name": "stdin",
     "output_type": "stream",
     "text": [
      "Enter the index to place your mark:  5\n"
     ]
    },
    {
     "name": "stdout",
     "output_type": "stream",
     "text": [
      "X X e \n",
      "e e O \n",
      "e e O \n",
      "_____\n",
      "\n",
      "AI's turn: \n",
      "\n",
      "AI is the winner for this grid\n",
      "_________ NEw GRID _________\n",
      "\n",
      "e e e \n",
      "e e e \n",
      "e e e \n",
      "_____\n",
      "\n",
      "AI's turn: \n",
      "\n",
      "e X e \n",
      "e e e \n",
      "e e e \n",
      "_____\n",
      "\n",
      "Human's turn: \n",
      "\n",
      "Available moves: [0, 2, 3, 4, 5, 6, 7, 8]\n"
     ]
    },
    {
     "name": "stdin",
     "output_type": "stream",
     "text": [
      "Enter the index to place your mark:  0\n"
     ]
    },
    {
     "name": "stdout",
     "output_type": "stream",
     "text": [
      "O X e \n",
      "e e e \n",
      "e e e \n",
      "_____\n",
      "\n",
      "AI's turn: \n",
      "\n",
      "O X e \n",
      "X e e \n",
      "e e e \n",
      "_____\n",
      "\n",
      "Human's turn: \n",
      "\n",
      "Available moves: [2, 4, 5, 6, 7, 8]\n"
     ]
    },
    {
     "name": "stdin",
     "output_type": "stream",
     "text": [
      "Enter the index to place your mark:  4\n"
     ]
    },
    {
     "name": "stdout",
     "output_type": "stream",
     "text": [
      "O X e \n",
      "X O e \n",
      "e e e \n",
      "_____\n",
      "\n",
      "AI's turn: \n",
      "\n",
      "O X e \n",
      "X O e \n",
      "X e e \n",
      "_____\n",
      "\n",
      "Human's turn: \n",
      "\n",
      "Available moves: [2, 5, 7, 8]\n"
     ]
    },
    {
     "name": "stdin",
     "output_type": "stream",
     "text": [
      "Enter the index to place your mark:  8\n"
     ]
    },
    {
     "name": "stdout",
     "output_type": "stream",
     "text": [
      "\n",
      "Human is the winner for this grid\n",
      "\n",
      "_________ NEw GRID _________\n",
      "\n",
      "e e e \n",
      "e e e \n",
      "e e e \n",
      "_____\n",
      "\n",
      "Human's turn: \n",
      "\n",
      "Available moves: [0, 1, 2, 3, 4, 5, 6, 7, 8]\n"
     ]
    },
    {
     "name": "stdin",
     "output_type": "stream",
     "text": [
      "Enter the index to place your mark:  4\n"
     ]
    },
    {
     "name": "stdout",
     "output_type": "stream",
     "text": [
      "e e e \n",
      "e O e \n",
      "e e e \n",
      "_____\n",
      "\n",
      "AI's turn: \n",
      "\n",
      "e X e \n",
      "e O e \n",
      "e e e \n",
      "_____\n",
      "\n",
      "Human's turn: \n",
      "\n",
      "Available moves: [0, 2, 3, 5, 6, 7, 8]\n"
     ]
    },
    {
     "name": "stdin",
     "output_type": "stream",
     "text": [
      "Enter the index to place your mark:  5\n"
     ]
    },
    {
     "name": "stdout",
     "output_type": "stream",
     "text": [
      "e X e \n",
      "e O O \n",
      "e e e \n",
      "_____\n",
      "\n",
      "AI's turn: \n",
      "\n",
      "e X e \n",
      "e O O \n",
      "X e e \n",
      "_____\n",
      "\n",
      "Human's turn: \n",
      "\n",
      "Available moves: [0, 2, 3, 7, 8]\n"
     ]
    },
    {
     "name": "stdin",
     "output_type": "stream",
     "text": [
      "Enter the index to place your mark:  3\n"
     ]
    },
    {
     "name": "stdout",
     "output_type": "stream",
     "text": [
      "\n",
      "Human is the winner for this grid\n",
      "\n",
      "_________ NEw GRID _________\n",
      "\n",
      "e e e \n",
      "e e e \n",
      "e e e \n",
      "_____\n",
      "\n",
      "Human's turn: \n",
      "\n",
      "Available moves: [0, 1, 2, 3, 4, 5, 6, 7, 8]\n"
     ]
    },
    {
     "name": "stdin",
     "output_type": "stream",
     "text": [
      "Enter the index to place your mark:  7\n"
     ]
    },
    {
     "name": "stdout",
     "output_type": "stream",
     "text": [
      "e e e \n",
      "e e e \n",
      "e O e \n",
      "_____\n",
      "\n",
      "AI's turn: \n",
      "\n",
      "e X e \n",
      "e e e \n",
      "e O e \n",
      "_____\n",
      "\n",
      "Human's turn: \n",
      "\n",
      "Available moves: [0, 2, 3, 4, 5, 6, 8]\n"
     ]
    },
    {
     "name": "stdin",
     "output_type": "stream",
     "text": [
      "Enter the index to place your mark:  4\n"
     ]
    },
    {
     "name": "stdout",
     "output_type": "stream",
     "text": [
      "e X e \n",
      "e O e \n",
      "e O e \n",
      "_____\n",
      "\n",
      "AI's turn: \n",
      "\n",
      "e X X \n",
      "e O e \n",
      "e O e \n",
      "_____\n",
      "\n",
      "Human's turn: \n",
      "\n",
      "Available moves: [0, 3, 5, 6, 8]\n"
     ]
    },
    {
     "name": "stdin",
     "output_type": "stream",
     "text": [
      "Enter the index to place your mark:  3\n"
     ]
    },
    {
     "name": "stdout",
     "output_type": "stream",
     "text": [
      "e X X \n",
      "O O e \n",
      "e O e \n",
      "_____\n",
      "\n",
      "AI's turn: \n",
      "\n",
      "AI is the winner for this grid\n",
      "_________ NEw GRID _________\n",
      "\n",
      "e e e \n",
      "e e e \n",
      "e e e \n",
      "_____\n",
      "\n",
      "AI's turn: \n",
      "\n",
      "e X e \n",
      "e e e \n",
      "e e e \n",
      "_____\n",
      "\n",
      "Human's turn: \n",
      "\n",
      "Available moves: [0, 2, 3, 4, 5, 6, 7, 8]\n"
     ]
    },
    {
     "name": "stdin",
     "output_type": "stream",
     "text": [
      "Enter the index to place your mark:  3\n"
     ]
    },
    {
     "name": "stdout",
     "output_type": "stream",
     "text": [
      "e X e \n",
      "O e e \n",
      "e e e \n",
      "_____\n",
      "\n",
      "AI's turn: \n",
      "\n",
      "e X X \n",
      "O e e \n",
      "e e e \n",
      "_____\n",
      "\n",
      "Human's turn: \n",
      "\n",
      "Available moves: [0, 4, 5, 6, 7, 8]\n"
     ]
    },
    {
     "name": "stdin",
     "output_type": "stream",
     "text": [
      "Enter the index to place your mark:  0\n"
     ]
    },
    {
     "name": "stdout",
     "output_type": "stream",
     "text": [
      "O X X \n",
      "O e e \n",
      "e e e \n",
      "_____\n",
      "\n",
      "AI's turn: \n",
      "\n",
      "O X X \n",
      "O e X \n",
      "e e e \n",
      "_____\n",
      "\n",
      "Human's turn: \n",
      "\n",
      "Available moves: [4, 6, 7, 8]\n"
     ]
    },
    {
     "name": "stdin",
     "output_type": "stream",
     "text": [
      "Enter the index to place your mark:  6\n"
     ]
    },
    {
     "name": "stdout",
     "output_type": "stream",
     "text": [
      "\n",
      "Human is the winner for this grid\n",
      "\n",
      "_________ NEw GRID _________\n",
      "\n",
      "e e e \n",
      "e e e \n",
      "e e e \n",
      "_____\n",
      "\n",
      "Human's turn: \n",
      "\n",
      "Available moves: [0, 1, 2, 3, 4, 5, 6, 7, 8]\n"
     ]
    },
    {
     "name": "stdin",
     "output_type": "stream",
     "text": [
      "Enter the index to place your mark:  0\n"
     ]
    },
    {
     "name": "stdout",
     "output_type": "stream",
     "text": [
      "O e e \n",
      "e e e \n",
      "e e e \n",
      "_____\n",
      "\n",
      "AI's turn: \n",
      "\n",
      "O e X \n",
      "e e e \n",
      "e e e \n",
      "_____\n",
      "\n",
      "Human's turn: \n",
      "\n",
      "Available moves: [1, 3, 4, 5, 6, 7, 8]\n"
     ]
    },
    {
     "name": "stdin",
     "output_type": "stream",
     "text": [
      "Enter the index to place your mark:  8\n"
     ]
    },
    {
     "name": "stdout",
     "output_type": "stream",
     "text": [
      "O e X \n",
      "e e e \n",
      "e e O \n",
      "_____\n",
      "\n",
      "AI's turn: \n",
      "\n",
      "O e X \n",
      "X e e \n",
      "e e O \n",
      "_____\n",
      "\n",
      "Human's turn: \n",
      "\n",
      "Available moves: [1, 4, 5, 6, 7]\n"
     ]
    },
    {
     "name": "stdin",
     "output_type": "stream",
     "text": [
      "Enter the index to place your mark:  4\n"
     ]
    },
    {
     "name": "stdout",
     "output_type": "stream",
     "text": [
      "\n",
      "Human is the winner for this grid\n",
      "\n"
     ]
    }
   ],
   "source": [
    "import tkinter as tk\n",
    "from tkinter import messagebox\n",
    "import copy\n",
    "from math import inf\n",
    "\n",
    "ai_mark = \"X\"\n",
    "human_mark = \"O\"\n",
    "\n",
    "def get_empty_indexes(curr_state):\n",
    "    \"\"\"Returns empty positions\"\"\"\n",
    "    return [i for i, tile in enumerate(curr_state) if tile != ai_mark and tile != human_mark and tile != \"D\"]\n",
    "    \n",
    "def check_for_winner(curr_state, mark):\n",
    "    \"\"\"Checks for winner\"\"\"\n",
    "    if curr_state is None or mark is None:\n",
    "        return False  \n",
    "\n",
    "    win_possibilities = [\n",
    "        [0, 1, 2], [3, 4, 5], [6, 7, 8],  # Rows\n",
    "        [0, 3, 6], [1, 4, 7], [2, 5, 8],  # Columns\n",
    "        [0, 4, 8], [2, 4, 6]              # Diagonals\n",
    "    ]\n",
    "    for pos in win_possibilities:\n",
    "        if all(curr_state[i] == mark for i in pos):\n",
    "            return True\n",
    "    return False\n",
    "\n",
    "def print_super_grid(s_grid):\n",
    "    print(s_grid[0][0], \" \", s_grid[0][1], \" \", s_grid[0][2], \" | \", s_grid[1][0], \" \", s_grid[1][1], \" \", s_grid[1][2], \" | \", s_grid[2][0], \" \", s_grid[2][1], \" \", s_grid[2][2])\n",
    "    print(s_grid[0][3], \" \", s_grid[0][4], \" \", s_grid[0][5], \" | \", s_grid[1][3], \" \", s_grid[1][4], \" \", s_grid[1][5], \" | \", s_grid[2][3], \" \", s_grid[2][4], \" \", s_grid[2][5])\n",
    "    print(s_grid[0][6], \" \", s_grid[0][7], \" \", s_grid[0][8], \" | \", s_grid[1][6], \" \", s_grid[1][7], \" \", s_grid[1][8], \" | \", s_grid[2][6], \" \", s_grid[2][7], \" \", s_grid[2][8])\n",
    "    print(\"_____________________________________\\n\")\n",
    "    print(s_grid[3][0], \" \", s_grid[3][1], \" \", s_grid[3][2], \" | \", s_grid[4][0], \" \", s_grid[4][1], \" \", s_grid[4][2], \" | \", s_grid[5][0], \" \", s_grid[5][1], \" \", s_grid[5][2])\n",
    "    print(s_grid[3][3], \" \", s_grid[3][4], \" \", s_grid[3][5], \" | \", s_grid[4][3], \" \", s_grid[4][4], \" \", s_grid[4][5], \" | \", s_grid[5][3], \" \", s_grid[5][4], \" \", s_grid[5][5])\n",
    "    print(s_grid[3][6], \" \", s_grid[3][7], \" \", s_grid[3][8], \" | \", s_grid[4][6], \" \", s_grid[4][7], \" \", s_grid[4][8], \" | \", s_grid[5][6], \" \", s_grid[5][7], \" \", s_grid[5][8])\n",
    "    print(\"_____________________________________\\n\")\n",
    "    print(s_grid[6][0], \" \", s_grid[6][1], \" \", s_grid[6][2], \" | \", s_grid[7][0], \" \", s_grid[7][1], \" \", s_grid[7][2], \" | \", s_grid[8][0], \" \", s_grid[8][1], \" \", s_grid[8][2])\n",
    "    print(s_grid[6][3], \" \", s_grid[6][4], \" \", s_grid[6][5], \" | \", s_grid[7][3], \" \", s_grid[7][4], \" \", s_grid[7][5], \" | \", s_grid[8][3], \" \", s_grid[8][4], \" \", s_grid[8][5])\n",
    "    print(s_grid[6][6], \" \", s_grid[6][7], \" \", s_grid[6][8], \" | \", s_grid[7][6], \" \", s_grid[7][7], \" \", s_grid[7][8], \" | \", s_grid[8][6], \" \", s_grid[8][7], \" \", s_grid[8][8])\n",
    "    print()\n",
    "    \n",
    "def min_max(curr_state, mark, alpha, beta):\n",
    "    empty_indexes = get_empty_indexes(curr_state)\n",
    "\n",
    "    # Check for terminal state\n",
    "    if check_for_winner(curr_state, ai_mark):\n",
    "        return {\"score\": 1}  # AI won\n",
    "    elif check_for_winner(curr_state, human_mark):\n",
    "        return {\"score\": -1}  # Human won\n",
    "    elif len(empty_indexes) == 0:\n",
    "        return {\"score\": 0}  # Draw\n",
    "\n",
    "    test_games = []\n",
    "    # Iterate through all possibilities\n",
    "    for index in empty_indexes:\n",
    "        curr_game = {}\n",
    "        curr_game[\"index\"] = index\n",
    "        curr_state[index] = mark\n",
    "        if mark == ai_mark:\n",
    "            result = min_max(curr_state, human_mark, alpha, beta)\n",
    "            curr_game[\"score\"] = result[\"score\"]\n",
    "            beta = min(beta, curr_game[\"score\"])  # Update beta\n",
    "        else:\n",
    "            result = min_max(curr_state, ai_mark, alpha, beta)\n",
    "            curr_game[\"score\"] = result[\"score\"]\n",
    "            alpha = max(alpha, curr_game[\"score\"])  # Update alpha\n",
    "        curr_state[index] = curr_game[\"index\"]\n",
    "        test_games.append(curr_game)\n",
    "\n",
    "        if beta <= alpha:\n",
    "            break  # Beta cutoff\n",
    "\n",
    "    best_play = None\n",
    "    # Get the index of best move\n",
    "    if mark == ai_mark:\n",
    "        best_score = -float('inf')\n",
    "        for i, info in enumerate(test_games):\n",
    "            if info[\"score\"] > best_score:\n",
    "                best_score = info[\"score\"]\n",
    "                best_play = i\n",
    "    else:\n",
    "        best_score = float(inf)\n",
    "        for i, info in enumerate(test_games):\n",
    "            if info[\"score\"] < best_score:\n",
    "                best_score = info[\"score\"]\n",
    "                best_play = i\n",
    "\n",
    "    return test_games[best_play]\n",
    "\n",
    "def ai_turn(curr_state, mark):\n",
    "    \"\"\"AI's turn\"\"\"\n",
    "    best_move = min_max(curr_state, mark, -float('inf'), float('inf'))\n",
    "    index = best_move['index']\n",
    "    curr_state[index] = mark\n",
    "    return curr_state\n",
    "\n",
    "def human_turn(curr_state, mark):\n",
    "    \"\"\"Human's turn\"\"\"\n",
    "    possible_moves = get_empty_indexes(curr_state)\n",
    "    print(\"Available moves:\", possible_moves)\n",
    "    while True:\n",
    "        try:\n",
    "            index = int(input(\"Enter the index to place your mark: \"))\n",
    "            if index in possible_moves:\n",
    "                curr_state[index] = mark\n",
    "                break\n",
    "            else:\n",
    "                print(\"Invalid move. Try again.\")\n",
    "        except ValueError:\n",
    "            print(\"Invalid input. Please enter a number.\")\n",
    "    return curr_state\n",
    "\n",
    "def print_grid(currBrd):\n",
    "    \"\"\"Prints the grid\"\"\"\n",
    "    for i, tile in enumerate(currBrd):\n",
    "        if tile == ai_mark or tile == human_mark:\n",
    "            print(tile, end=\" \")\n",
    "        else:\n",
    "            print(\"e\", end=\" \")\n",
    "        if (i + 1) % 3 == 0:\n",
    "            print()\n",
    "    print(\"_____\\n\")\n",
    "\n",
    "def play_game(f, state):\n",
    "    \"\"\"Transitions between AI and Human players\"\"\"\n",
    "    print(\"_________ NEw GRID _________\\n\")\n",
    "    \n",
    "    flag = f\n",
    "    current_state = state\n",
    "    \n",
    "    while len(get_empty_indexes(current_state)) != 0:\n",
    "        print_grid(current_state)\n",
    "        if flag:\n",
    "            print(\"AI's turn: \\n\")\n",
    "            messagebox.showinfo(\"AI's turn: \\n\")\n",
    "            current_state = ai_turn(current_state, ai_mark)\n",
    "            if check_for_winner(current_state, ai_mark):\n",
    "                print(\"AI is the winner for this grid\")\n",
    "                messagebox.showinfo(\"AI is the winner for this grid\")\n",
    "                return state, flag, False\n",
    "            flag = False\n",
    "        else:\n",
    "            print(\"Human's turn: \\n\")\n",
    "            messagebox.showinfo(\"Human's turn: \\n\")\n",
    "            current_state = human_turn(current_state, human_mark)\n",
    "            if check_for_winner(current_state, human_mark):\n",
    "                print(\"\\nHuman is the winner for this grid\\n\")\n",
    "                messagebox.showinfo(\"\\nHuman is the winner for this grid\\n\")\n",
    "                return state, flag, False\n",
    "            flag = True\n",
    "    \n",
    "    print(\"This grid is a draw!\")\n",
    "    messagebox.showinfo(\"This grid is a draw!\")\n",
    "\n",
    "    return state, not flag, True\n",
    "\n",
    "\n",
    "def play_super_tic_tac_toe():\n",
    "    final_grid = [0, 1, 2, 3, 4, 5, 6, 7, 8]\n",
    "    super_grid = [[0, 1, 2, 3, 4, 5, 6, 7, 8] for i in range(9)]\n",
    "    flag = True\n",
    "    while(1):   \n",
    "        if check_for_winner(final_grid, ai_mark):\n",
    "            print(\"AI WON SUPER TIC TAC TOE!!!!\")\n",
    "            self.show_winner(\"AI\")\n",
    "            break\n",
    "        elif check_for_winner(final_grid, human_mark):\n",
    "            print(\"HUMAN WON SUPER TIC TAC TOE!!!!\")\n",
    "            self.show_winner(\"HUMAN\")\n",
    "            break\n",
    "        elif len(get_empty_indexes(final_grid)) == 0:\n",
    "            print(\"IT IS A DRAW!!!!\")\n",
    "            self.show_winner(\"DRAW !!!\")\n",
    "            break\n",
    "        \n",
    "        print_super_grid(super_grid)\n",
    "\n",
    "        def show_winner(self,winner) :\n",
    "            messagebox.showinfo(\"\",winner)\n",
    "\n",
    "        if flag:\n",
    "            empty_grids = get_empty_indexes(final_grid)\n",
    "            selected = random.choice(empty_grids)\n",
    "\n",
    "            grid, flag, draw = play_game(flag, copy.deepcopy(super_grid[selected]))\n",
    "            super_grid[selected] = grid\n",
    "            if draw:\n",
    "                final_grid[selected] = \"D\"\n",
    "            else:\n",
    "                final_grid[selected] = ai_mark\n",
    "        else:\n",
    "            empty_grids = get_empty_indexes(final_grid)\n",
    "            print(empty_grids)\n",
    "            print(\"Selected a grid: \")\n",
    "            selected = int(input())\n",
    "            while (1):\n",
    "                if selected not in empty_grids:\n",
    "                    print(\"Select correct option!\")\n",
    "                    selected = int(input())\n",
    "                else:\n",
    "                    break\n",
    "            grid, flag, draw = play_game(flag, copy.deepcopy(super_grid[selected]))\n",
    "            super_grid[selected] = grid\n",
    "            if draw:\n",
    "                final_grid[selected] = \"D\"\n",
    "            else:\n",
    "                final_grid[selected] = human_mark\n",
    "\n",
    "\n",
    "def create_board_buttons(root, grid):\n",
    "    \"\"\"Create buttons for each cell in the grid\"\"\"\n",
    "    buttons = []\n",
    "    for i in range(9):\n",
    "        row = i // 3\n",
    "        col = i % 3\n",
    "        button = tk.Button(root, text=grid[i], width=5, height=2, command=lambda i=i: handle_click(i))\n",
    "        button.grid(row=row, column=col)\n",
    "        buttons.append(button)\n",
    "    return buttons\n",
    "\n",
    "def handle_click(index):\n",
    "    \"\"\"Handle a button click\"\"\"\n",
    "    global final_grid, super_grid, flag\n",
    "    if final_grid[index] != index:  # Check if the grid is not already finished\n",
    "        messagebox.showerror(\"Invalid Move\", \"This grid is already finished.\")\n",
    "        return\n",
    "    # Call play_game function for the selected grid\n",
    "    grid, flag, draw = play_game(flag, copy.deepcopy(super_grid[index]))\n",
    "    super_grid[index] = grid\n",
    "    if draw:\n",
    "        final_grid[index] = \"D\"\n",
    "    else:\n",
    "        final_grid[index] = ai_mark if flag else human_mark\n",
    "    update_buttons(buttons, final_grid)\n",
    "\n",
    "def update_buttons(buttons, final_grid):\n",
    "    \"\"\"Update button text based on final grid state\"\"\"\n",
    "    for i, button in enumerate(buttons):\n",
    "        button.config(text=final_grid[i])\n",
    "\n",
    "def main():\n",
    "    global final_grid, super_grid, flag, buttons\n",
    "\n",
    "    # Create the main window\n",
    "    root = tk.Tk()\n",
    "    root.title(\"Super Tic Tac Toe\")\n",
    "\n",
    "    # Initialize final grid and super grid\n",
    "    final_grid = [0, 1, 2, 3, 4, 5, 6, 7, 8]\n",
    "    super_grid = [[0, 1, 2, 3, 4, 5, 6, 7, 8] for _ in range(9)]\n",
    "    flag = True  # Flag to switch between AI and human player\n",
    "    print(\"---------- SUPER GRID ----------\")\n",
    "    print_super_grid(super_grid)\n",
    "    buttons = create_board_buttons(root, final_grid)\n",
    "\n",
    "    # Run the Tkinter event loop\n",
    "    root.mainloop()\n",
    "\n",
    "if __name__ == \"__main__\":\n",
    "    main()\n"
   ]
  },
  {
   "cell_type": "code",
   "execution_count": null,
   "id": "3de5eac5-d1d9-4b01-9122-d741544ca1b5",
   "metadata": {},
   "outputs": [],
   "source": []
  }
 ],
 "metadata": {
  "kernelspec": {
   "display_name": "Python 3 (ipykernel)",
   "language": "python",
   "name": "python3"
  },
  "language_info": {
   "codemirror_mode": {
    "name": "ipython",
    "version": 3
   },
   "file_extension": ".py",
   "mimetype": "text/x-python",
   "name": "python",
   "nbconvert_exporter": "python",
   "pygments_lexer": "ipython3",
   "version": "3.11.7"
  }
 },
 "nbformat": 4,
 "nbformat_minor": 5
}
